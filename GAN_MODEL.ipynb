{
  "nbformat": 4,
  "nbformat_minor": 0,
  "metadata": {
    "colab": {
      "provenance": [],
      "authorship_tag": "ABX9TyMcOQhD0nYcH9BAZYTTvUzJ",
      "include_colab_link": true
    },
    "kernelspec": {
      "name": "python3",
      "display_name": "Python 3"
    },
    "language_info": {
      "name": "python"
    }
  },
  "cells": [
    {
      "cell_type": "markdown",
      "metadata": {
        "id": "view-in-github",
        "colab_type": "text"
      },
      "source": [
        "<a href=\"https://colab.research.google.com/github/Ankit231299/Sentimental-Analysis-of-restaurant-reviews/blob/main/GAN_MODEL.ipynb\" target=\"_parent\"><img src=\"https://colab.research.google.com/assets/colab-badge.svg\" alt=\"Open In Colab\"/></a>"
      ]
    },
    {
      "cell_type": "code",
      "execution_count": 1,
      "metadata": {
        "id": "nUNCCE0osIm6"
      },
      "outputs": [],
      "source": [
        "import torch\n",
        "import torch.nn as nn\n",
        "import torch.optim as optim\n",
        "from torchvision import datasets, transforms\n",
        "from torch.utils.data import DataLoader\n",
        "import matplotlib.pyplot as plt"
      ]
    },
    {
      "cell_type": "code",
      "source": [
        "class Generator(nn.Module):\n",
        "    def __init__(self, latent_dim, img_shape):\n",
        "        super(Generator, self).__init__()\n",
        "        self.model = nn.Sequential(\n",
        "            nn.Linear(latent_dim, 128),\n",
        "            nn.LeakyReLU(0.2),\n",
        "            nn.Linear(128, 256),\n",
        "            nn.BatchNorm1d(256),\n",
        "            nn.LeakyReLU(0.2),\n",
        "            nn.Linear(256, 512),\n",
        "            nn.BatchNorm1d(512),\n",
        "            nn.LeakyReLU(0.2),\n",
        "            nn.Linear(512, 1024),\n",
        "            nn.BatchNorm1d(1024),\n",
        "            nn.LeakyReLU(0.2),\n",
        "            nn.Linear(1024, img_shape),\n",
        "            nn.Tanh()  # Output is in the range [-1, 1]\n",
        "        )\n",
        "\n",
        "    def forward(self, z):\n",
        "        return self.model(z)"
      ],
      "metadata": {
        "id": "yZJzS06GsvbZ"
      },
      "execution_count": 2,
      "outputs": []
    },
    {
      "cell_type": "code",
      "source": [
        "class Discriminator(nn.Module):\n",
        "    def __init__(self, img_shape):\n",
        "        super(Discriminator, self).__init__()\n",
        "        self.model = nn.Sequential(\n",
        "            nn.Linear(img_shape, 512),\n",
        "            nn.LeakyReLU(0.2),\n",
        "            nn.Linear(512, 256),\n",
        "            nn.LeakyReLU(0.2),\n",
        "            nn.Linear(256, 1),\n",
        "            nn.Sigmoid()  # Output is a probability (0 or 1)\n",
        "        )\n",
        "\n",
        "    def forward(self, img):\n",
        "        return self.model(img)"
      ],
      "metadata": {
        "id": "Jsurqe9Ms0GR"
      },
      "execution_count": 3,
      "outputs": []
    },
    {
      "cell_type": "code",
      "source": [
        "# Hyperparameters\n",
        "latent_dim = 100  # Size of the noise vector\n",
        "img_shape = 28 * 28  # Size of the image (e.g., 28x28 for MNIST)\n",
        "batch_size = 64\n",
        "epochs = 200\n",
        "lr = 0.0002  # Learning rate"
      ],
      "metadata": {
        "id": "o-yli-Lxs3kq"
      },
      "execution_count": 4,
      "outputs": []
    },
    {
      "cell_type": "code",
      "source": [
        "# Transformations\n",
        "transform = transforms.Compose([\n",
        "    transforms.ToTensor(),\n",
        "    transforms.Normalize((0.5,), (0.5,))  # Normalize images to [-1, 1]\n",
        "])\n",
        "\n",
        "# Load dataset\n",
        "dataset = datasets.MNIST(root=\"./data\", train=True, transform=transform, download=True)\n",
        "dataloader = DataLoader(dataset, batch_size=batch_size, shuffle=True)"
      ],
      "metadata": {
        "colab": {
          "base_uri": "https://localhost:8080/"
        },
        "id": "C_LYyqZHs7rN",
        "outputId": "f122cffb-5c3c-4d44-e537-ce5765fb9d29"
      },
      "execution_count": 5,
      "outputs": [
        {
          "output_type": "stream",
          "name": "stdout",
          "text": [
            "Downloading http://yann.lecun.com/exdb/mnist/train-images-idx3-ubyte.gz\n",
            "Failed to download (trying next):\n",
            "HTTP Error 404: Not Found\n",
            "\n",
            "Downloading https://ossci-datasets.s3.amazonaws.com/mnist/train-images-idx3-ubyte.gz\n",
            "Downloading https://ossci-datasets.s3.amazonaws.com/mnist/train-images-idx3-ubyte.gz to ./data/MNIST/raw/train-images-idx3-ubyte.gz\n"
          ]
        },
        {
          "output_type": "stream",
          "name": "stderr",
          "text": [
            "100%|██████████| 9.91M/9.91M [00:00<00:00, 47.4MB/s]\n"
          ]
        },
        {
          "output_type": "stream",
          "name": "stdout",
          "text": [
            "Extracting ./data/MNIST/raw/train-images-idx3-ubyte.gz to ./data/MNIST/raw\n",
            "\n",
            "Downloading http://yann.lecun.com/exdb/mnist/train-labels-idx1-ubyte.gz\n",
            "Failed to download (trying next):\n",
            "HTTP Error 404: Not Found\n",
            "\n",
            "Downloading https://ossci-datasets.s3.amazonaws.com/mnist/train-labels-idx1-ubyte.gz\n",
            "Downloading https://ossci-datasets.s3.amazonaws.com/mnist/train-labels-idx1-ubyte.gz to ./data/MNIST/raw/train-labels-idx1-ubyte.gz\n"
          ]
        },
        {
          "output_type": "stream",
          "name": "stderr",
          "text": [
            "100%|██████████| 28.9k/28.9k [00:00<00:00, 1.68MB/s]\n"
          ]
        },
        {
          "output_type": "stream",
          "name": "stdout",
          "text": [
            "Extracting ./data/MNIST/raw/train-labels-idx1-ubyte.gz to ./data/MNIST/raw\n",
            "\n",
            "Downloading http://yann.lecun.com/exdb/mnist/t10k-images-idx3-ubyte.gz\n",
            "Failed to download (trying next):\n",
            "HTTP Error 404: Not Found\n",
            "\n",
            "Downloading https://ossci-datasets.s3.amazonaws.com/mnist/t10k-images-idx3-ubyte.gz\n",
            "Downloading https://ossci-datasets.s3.amazonaws.com/mnist/t10k-images-idx3-ubyte.gz to ./data/MNIST/raw/t10k-images-idx3-ubyte.gz\n"
          ]
        },
        {
          "output_type": "stream",
          "name": "stderr",
          "text": [
            "100%|██████████| 1.65M/1.65M [00:00<00:00, 14.1MB/s]\n"
          ]
        },
        {
          "output_type": "stream",
          "name": "stdout",
          "text": [
            "Extracting ./data/MNIST/raw/t10k-images-idx3-ubyte.gz to ./data/MNIST/raw\n",
            "\n",
            "Downloading http://yann.lecun.com/exdb/mnist/t10k-labels-idx1-ubyte.gz\n",
            "Failed to download (trying next):\n",
            "HTTP Error 404: Not Found\n",
            "\n",
            "Downloading https://ossci-datasets.s3.amazonaws.com/mnist/t10k-labels-idx1-ubyte.gz\n",
            "Downloading https://ossci-datasets.s3.amazonaws.com/mnist/t10k-labels-idx1-ubyte.gz to ./data/MNIST/raw/t10k-labels-idx1-ubyte.gz\n"
          ]
        },
        {
          "output_type": "stream",
          "name": "stderr",
          "text": [
            "100%|██████████| 4.54k/4.54k [00:00<00:00, 2.78MB/s]"
          ]
        },
        {
          "output_type": "stream",
          "name": "stdout",
          "text": [
            "Extracting ./data/MNIST/raw/t10k-labels-idx1-ubyte.gz to ./data/MNIST/raw\n",
            "\n"
          ]
        },
        {
          "output_type": "stream",
          "name": "stderr",
          "text": [
            "\n"
          ]
        }
      ]
    },
    {
      "cell_type": "code",
      "source": [
        "# Initialize models\n",
        "generator = Generator(latent_dim, img_shape)\n",
        "discriminator = Discriminator(img_shape)\n",
        "\n",
        "# Loss function\n",
        "criterion = nn.BCELoss()  # Binary Cross-Entropy Loss\n",
        "\n",
        "# Optimizers\n",
        "optimizer_G = optim.Adam(generator.parameters(), lr=lr)\n",
        "optimizer_D = optim.Adam(discriminator.parameters(), lr=lr)"
      ],
      "metadata": {
        "id": "CwcvnWvWtE2v"
      },
      "execution_count": 6,
      "outputs": []
    },
    {
      "cell_type": "code",
      "source": [
        "for epoch in range(10):\n",
        "    for i, (real_imgs, _) in enumerate(dataloader):\n",
        "        # Flatten images\n",
        "        real_imgs = real_imgs.view(-1, img_shape)\n",
        "\n",
        "        # Labels for real and fake data\n",
        "        real_labels = torch.ones(real_imgs.size(0), 1)\n",
        "        fake_labels = torch.zeros(real_imgs.size(0), 1)\n",
        "\n",
        "        # Train Discriminator\n",
        "        optimizer_D.zero_grad()\n",
        "\n",
        "        # Real images\n",
        "        real_outputs = discriminator(real_imgs)\n",
        "        d_loss_real = criterion(real_outputs, real_labels)\n",
        "\n",
        "        # Fake images\n",
        "        z = torch.randn(real_imgs.size(0), latent_dim)  # Random noise\n",
        "        fake_imgs = generator(z)\n",
        "        fake_outputs = discriminator(fake_imgs.detach())\n",
        "        d_loss_fake = criterion(fake_outputs, fake_labels)\n",
        "\n",
        "        # Total discriminator loss\n",
        "        d_loss = d_loss_real + d_loss_fake\n",
        "        d_loss.backward()\n",
        "        optimizer_D.step()\n",
        "\n",
        "        # Train Generator\n",
        "        optimizer_G.zero_grad()\n",
        "\n",
        "        # Generate fake images and calculate loss\n",
        "        fake_outputs = discriminator(fake_imgs)\n",
        "        g_loss = criterion(fake_outputs, real_labels)  # Generator tries to fool the discriminator\n",
        "\n",
        "        # Update generator\n",
        "        g_loss.backward()\n",
        "        optimizer_G.step()\n",
        "\n",
        "        # Print progress\n",
        "        if i % 100 == 0:\n",
        "            print(\n",
        "                f\"Epoch [{epoch}/{epochs}] Batch [{i}/{len(dataloader)}] \"\n",
        "                f\"D Loss: {d_loss.item():.4f} G Loss: {g_loss.item():.4f}\"\n",
        "            )"
      ],
      "metadata": {
        "colab": {
          "base_uri": "https://localhost:8080/"
        },
        "id": "rYefs9TNtKyF",
        "outputId": "a9151fa4-ee6b-4fa8-e54d-2c5b975a605e"
      },
      "execution_count": 8,
      "outputs": [
        {
          "output_type": "stream",
          "name": "stdout",
          "text": [
            "Epoch [0/200] Batch [0/938] D Loss: 0.3269 G Loss: 6.3507\n",
            "Epoch [0/200] Batch [100/938] D Loss: 0.5986 G Loss: 7.7554\n",
            "Epoch [0/200] Batch [200/938] D Loss: 0.3751 G Loss: 10.1345\n",
            "Epoch [0/200] Batch [300/938] D Loss: 0.1442 G Loss: 5.7047\n",
            "Epoch [0/200] Batch [400/938] D Loss: 0.4841 G Loss: 6.7564\n",
            "Epoch [0/200] Batch [500/938] D Loss: 0.0534 G Loss: 8.0776\n",
            "Epoch [0/200] Batch [600/938] D Loss: 0.0551 G Loss: 8.7817\n",
            "Epoch [0/200] Batch [700/938] D Loss: 0.2156 G Loss: 9.1510\n",
            "Epoch [0/200] Batch [800/938] D Loss: 0.5896 G Loss: 4.7056\n",
            "Epoch [0/200] Batch [900/938] D Loss: 0.1144 G Loss: 6.0339\n",
            "Epoch [1/200] Batch [0/938] D Loss: 0.6025 G Loss: 4.7258\n",
            "Epoch [1/200] Batch [100/938] D Loss: 0.2288 G Loss: 6.3677\n",
            "Epoch [1/200] Batch [200/938] D Loss: 0.3943 G Loss: 5.1894\n",
            "Epoch [1/200] Batch [300/938] D Loss: 0.3021 G Loss: 4.3656\n",
            "Epoch [1/200] Batch [400/938] D Loss: 0.3263 G Loss: 6.4626\n",
            "Epoch [1/200] Batch [500/938] D Loss: 0.1677 G Loss: 5.6237\n",
            "Epoch [1/200] Batch [600/938] D Loss: 0.1501 G Loss: 5.2895\n",
            "Epoch [1/200] Batch [700/938] D Loss: 0.5075 G Loss: 4.9913\n",
            "Epoch [1/200] Batch [800/938] D Loss: 0.3755 G Loss: 5.9253\n",
            "Epoch [1/200] Batch [900/938] D Loss: 0.2216 G Loss: 7.0219\n",
            "Epoch [2/200] Batch [0/938] D Loss: 0.2220 G Loss: 8.6506\n",
            "Epoch [2/200] Batch [100/938] D Loss: 0.3481 G Loss: 4.4723\n",
            "Epoch [2/200] Batch [200/938] D Loss: 0.4538 G Loss: 6.9892\n",
            "Epoch [2/200] Batch [300/938] D Loss: 0.2187 G Loss: 5.5133\n",
            "Epoch [2/200] Batch [400/938] D Loss: 0.3445 G Loss: 4.1440\n",
            "Epoch [2/200] Batch [500/938] D Loss: 0.3524 G Loss: 3.4847\n",
            "Epoch [2/200] Batch [600/938] D Loss: 0.3473 G Loss: 4.6899\n",
            "Epoch [2/200] Batch [700/938] D Loss: 0.3297 G Loss: 4.8856\n",
            "Epoch [2/200] Batch [800/938] D Loss: 0.2372 G Loss: 4.0417\n",
            "Epoch [2/200] Batch [900/938] D Loss: 0.2371 G Loss: 3.4438\n",
            "Epoch [3/200] Batch [0/938] D Loss: 0.6265 G Loss: 3.7221\n",
            "Epoch [3/200] Batch [100/938] D Loss: 0.2197 G Loss: 4.2005\n",
            "Epoch [3/200] Batch [200/938] D Loss: 0.1805 G Loss: 4.5760\n",
            "Epoch [3/200] Batch [300/938] D Loss: 0.2284 G Loss: 5.6488\n",
            "Epoch [3/200] Batch [400/938] D Loss: 0.4257 G Loss: 3.7033\n",
            "Epoch [3/200] Batch [500/938] D Loss: 0.3453 G Loss: 3.3732\n",
            "Epoch [3/200] Batch [600/938] D Loss: 0.2716 G Loss: 3.9425\n",
            "Epoch [3/200] Batch [700/938] D Loss: 0.3288 G Loss: 4.0573\n",
            "Epoch [3/200] Batch [800/938] D Loss: 0.1761 G Loss: 4.3739\n",
            "Epoch [3/200] Batch [900/938] D Loss: 0.1942 G Loss: 3.9194\n",
            "Epoch [4/200] Batch [0/938] D Loss: 0.3444 G Loss: 3.2933\n",
            "Epoch [4/200] Batch [100/938] D Loss: 0.4516 G Loss: 5.7260\n",
            "Epoch [4/200] Batch [200/938] D Loss: 0.3662 G Loss: 4.2807\n",
            "Epoch [4/200] Batch [300/938] D Loss: 0.3131 G Loss: 4.1898\n",
            "Epoch [4/200] Batch [400/938] D Loss: 0.3055 G Loss: 4.3454\n",
            "Epoch [4/200] Batch [500/938] D Loss: 0.2369 G Loss: 2.1582\n",
            "Epoch [4/200] Batch [600/938] D Loss: 0.2798 G Loss: 4.9354\n",
            "Epoch [4/200] Batch [700/938] D Loss: 0.2268 G Loss: 4.6117\n",
            "Epoch [4/200] Batch [800/938] D Loss: 0.4648 G Loss: 3.8136\n",
            "Epoch [4/200] Batch [900/938] D Loss: 0.3487 G Loss: 4.1923\n",
            "Epoch [5/200] Batch [0/938] D Loss: 0.5511 G Loss: 4.0041\n",
            "Epoch [5/200] Batch [100/938] D Loss: 0.4683 G Loss: 3.4958\n",
            "Epoch [5/200] Batch [200/938] D Loss: 0.3669 G Loss: 2.7792\n",
            "Epoch [5/200] Batch [300/938] D Loss: 0.2965 G Loss: 5.5129\n",
            "Epoch [5/200] Batch [400/938] D Loss: 0.4661 G Loss: 4.3188\n",
            "Epoch [5/200] Batch [500/938] D Loss: 0.3460 G Loss: 3.7941\n",
            "Epoch [5/200] Batch [600/938] D Loss: 0.1864 G Loss: 3.6304\n",
            "Epoch [5/200] Batch [700/938] D Loss: 0.5692 G Loss: 5.4899\n",
            "Epoch [5/200] Batch [800/938] D Loss: 0.5031 G Loss: 4.6866\n",
            "Epoch [5/200] Batch [900/938] D Loss: 0.6645 G Loss: 3.2626\n",
            "Epoch [6/200] Batch [0/938] D Loss: 0.5306 G Loss: 3.0327\n",
            "Epoch [6/200] Batch [100/938] D Loss: 0.4257 G Loss: 4.4081\n",
            "Epoch [6/200] Batch [200/938] D Loss: 0.5798 G Loss: 3.6883\n",
            "Epoch [6/200] Batch [300/938] D Loss: 0.4663 G Loss: 4.1130\n",
            "Epoch [6/200] Batch [400/938] D Loss: 0.5003 G Loss: 2.6406\n",
            "Epoch [6/200] Batch [500/938] D Loss: 0.3663 G Loss: 3.4284\n",
            "Epoch [6/200] Batch [600/938] D Loss: 0.6575 G Loss: 2.4889\n",
            "Epoch [6/200] Batch [700/938] D Loss: 0.6177 G Loss: 3.7235\n",
            "Epoch [6/200] Batch [800/938] D Loss: 0.6068 G Loss: 3.1476\n",
            "Epoch [6/200] Batch [900/938] D Loss: 0.3749 G Loss: 3.7771\n",
            "Epoch [7/200] Batch [0/938] D Loss: 0.6329 G Loss: 2.2729\n",
            "Epoch [7/200] Batch [100/938] D Loss: 0.5624 G Loss: 4.0131\n",
            "Epoch [7/200] Batch [200/938] D Loss: 0.5367 G Loss: 3.5610\n",
            "Epoch [7/200] Batch [300/938] D Loss: 0.4389 G Loss: 4.5086\n",
            "Epoch [7/200] Batch [400/938] D Loss: 0.5151 G Loss: 3.1076\n",
            "Epoch [7/200] Batch [500/938] D Loss: 0.2278 G Loss: 4.6422\n",
            "Epoch [7/200] Batch [600/938] D Loss: 0.3121 G Loss: 3.2607\n",
            "Epoch [7/200] Batch [700/938] D Loss: 0.5115 G Loss: 4.2144\n",
            "Epoch [7/200] Batch [800/938] D Loss: 0.4193 G Loss: 4.3366\n",
            "Epoch [7/200] Batch [900/938] D Loss: 0.5990 G Loss: 4.1004\n",
            "Epoch [8/200] Batch [0/938] D Loss: 0.7994 G Loss: 3.2372\n",
            "Epoch [8/200] Batch [100/938] D Loss: 0.5118 G Loss: 1.9821\n",
            "Epoch [8/200] Batch [200/938] D Loss: 0.5022 G Loss: 4.1698\n",
            "Epoch [8/200] Batch [300/938] D Loss: 0.5248 G Loss: 3.3590\n",
            "Epoch [8/200] Batch [400/938] D Loss: 0.5147 G Loss: 3.4905\n",
            "Epoch [8/200] Batch [500/938] D Loss: 0.4892 G Loss: 3.6837\n",
            "Epoch [8/200] Batch [600/938] D Loss: 0.4597 G Loss: 2.2176\n",
            "Epoch [8/200] Batch [700/938] D Loss: 1.0123 G Loss: 2.6633\n",
            "Epoch [8/200] Batch [800/938] D Loss: 1.0932 G Loss: 3.2762\n",
            "Epoch [8/200] Batch [900/938] D Loss: 0.4255 G Loss: 3.7711\n",
            "Epoch [9/200] Batch [0/938] D Loss: 0.6959 G Loss: 2.8757\n",
            "Epoch [9/200] Batch [100/938] D Loss: 0.4417 G Loss: 3.2331\n",
            "Epoch [9/200] Batch [200/938] D Loss: 0.5648 G Loss: 3.6239\n",
            "Epoch [9/200] Batch [300/938] D Loss: 0.6241 G Loss: 2.9493\n",
            "Epoch [9/200] Batch [400/938] D Loss: 0.7887 G Loss: 2.9758\n",
            "Epoch [9/200] Batch [500/938] D Loss: 0.7502 G Loss: 2.0551\n",
            "Epoch [9/200] Batch [600/938] D Loss: 0.9481 G Loss: 3.5016\n",
            "Epoch [9/200] Batch [700/938] D Loss: 0.7944 G Loss: 2.7830\n",
            "Epoch [9/200] Batch [800/938] D Loss: 0.6234 G Loss: 1.9391\n",
            "Epoch [9/200] Batch [900/938] D Loss: 0.7282 G Loss: 4.2938\n"
          ]
        }
      ]
    },
    {
      "cell_type": "code",
      "source": [
        "# Generate fake images\n",
        "z = torch.randn(16, latent_dim)  # 16 random noise vectors\n",
        "fake_imgs = generator(z).view(-1, 28, 28).detach()\n",
        "\n",
        "# Plot fake images\n",
        "plt.figure(figsize=(8, 8))\n",
        "for i in range(16):\n",
        "    plt.subplot(4, 4, i + 1)\n",
        "    plt.imshow(fake_imgs[i], cmap=\"gray\")\n",
        "    plt.axis(\"off\")\n",
        "plt.show()"
      ],
      "metadata": {
        "colab": {
          "base_uri": "https://localhost:8080/",
          "height": 653
        },
        "id": "mAMtF9wEui_9",
        "outputId": "07f2bf31-e13d-4936-e47b-4ea14bd756fc"
      },
      "execution_count": 9,
      "outputs": [
        {
          "output_type": "display_data",
          "data": {
            "text/plain": [
              "<Figure size 800x800 with 16 Axes>"
            ],
            "image/png": "[encoded data removed]"
          },
          "metadata": {}
        }
      ]
    }
  ]
}